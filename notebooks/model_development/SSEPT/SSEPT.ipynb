{
 "cells": [
  {
   "cell_type": "code",
   "execution_count": 36,
   "id": "f87cea11",
   "metadata": {},
   "outputs": [
    {
     "name": "stdout",
     "output_type": "stream",
     "text": [
      "System version: 3.9.18 | packaged by conda-forge | (main, Dec 23 2023, 16:33:10) \n",
      "[GCC 12.3.0]\n",
      "Tensorflow version: 2.14.0\n"
     ]
    }
   ],
   "source": [
    "import sys\n",
    "import os\n",
    "import argparse, json, math\n",
    "from pathlib import Path\n",
    "import pandas as pd\n",
    "import numpy as np\n",
    "import tensorflow as tf, os\n",
    "from tqdm import tqdm\n",
    "tf.get_logger().setLevel('ERROR') # only show error messages\n",
    "\n",
    "\n",
    "from recommenders.models.sasrec.model import SASREC\n",
    "from recommenders.models.sasrec.ssept import SSEPT\n",
    "from recommenders.models.sasrec.sampler import WarpSampler\n",
    "from recommenders.models.sasrec.util import SASRecDataSet\n",
    "from recommenders.utils.notebook_utils import store_metadata\n",
    "from recommenders.utils.timer import Timer\n",
    "\n",
    "\n",
    "print(f\"System version: {sys.version}\")\n",
    "print(f\"Tensorflow version: {tf.__version__}\")"
   ]
  },
  {
   "cell_type": "code",
   "execution_count": 37,
   "id": "fee08609",
   "metadata": {},
   "outputs": [
    {
     "name": "stdout",
     "output_type": "stream",
     "text": [
      "✅ GPU device: /physical_device:GPU:0\n"
     ]
    }
   ],
   "source": [
    "gpus = tf.config.list_physical_devices('GPU')\n",
    "assert gpus, \"❌ No GPU visible\"\n",
    "print(\"✅ GPU device:\", gpus[0].name)       # should contain “A100”\n",
    "\n",
    "\n",
    "# faster allocator (TensorFlow >= 2.10)\n",
    "os.environ[\"TF_GPU_ALLOCATOR\"] = \"cuda_malloc_async\""
   ]
  },
  {
   "cell_type": "code",
   "execution_count": 38,
   "id": "204e7ab7",
   "metadata": {},
   "outputs": [],
   "source": [
    "num_epochs = 5\n",
    "batch_size = 512\n",
    "seed = 100  # Set None for non-deterministic result\n",
    "\n",
    "# data_dir = os.path.join(\"tests\", \"recsys_data\", \"RecSys\", \"SASRec-tf2\", \"data\")\n",
    "DATA_DIR = Path(\"../../../data/processed\")\n",
    "SEQ_FILE = DATA_DIR / \"seq_ready.txt\"    # final tab–separated file\n",
    "CKPT_DIR = CKPT_DIR = Path(\"data/ckpt\")\n",
    "\n",
    "lr = 0.001             # learning rate\n",
    "maxlen = 50            # maximum sequence length for each user\n",
    "num_blocks = 2         # number of transformer blocks\n",
    "hidden_units = 100     # number of units in the attention calculation\n",
    "num_heads = 1          # number of attention heads\n",
    "dropout_rate = 0.1     # dropout rate\n",
    "l2_emb = 0.0           # L2 regularization coefficient\n",
    "num_neg_test = 100     # number of negative examples per positive example\n",
    "model_name = 'ssept'  # 'sasrec' or 'ssept'"
   ]
  },
  {
   "cell_type": "code",
   "execution_count": 39,
   "id": "01232818",
   "metadata": {},
   "outputs": [
    {
     "name": "stdout",
     "output_type": "stream",
     "text": [
      "56208 Users and 4697 items\n",
      "average sequence length: 8.53\n"
     ]
    }
   ],
   "source": [
    "dataset = SASRecDataSet(filename=str(SEQ_FILE), col_sep=\"\\t\")\n",
    "dataset.split()                                       # train / valid / test dicts\n",
    "\n",
    "\n",
    "num_steps = int(len(dataset.user_train) / batch_size)\n",
    "cc = 0.0\n",
    "for u in dataset.user_train:\n",
    "    cc += len(dataset.user_train[u])\n",
    "print('%g Users and %g items' % (dataset.usernum, dataset.itemnum))\n",
    "print('average sequence length: %.2f' % (cc / len(dataset.user_train)))"
   ]
  },
  {
   "cell_type": "code",
   "execution_count": 40,
   "id": "661413c4",
   "metadata": {},
   "outputs": [],
   "source": [
    "sampler = WarpSampler(dataset.user_train,\n",
    "                      dataset.usernum, dataset.itemnum,\n",
    "                      batch_size=batch_size,\n",
    "                      maxlen=maxlen, n_workers=3)"
   ]
  },
  {
   "cell_type": "code",
   "execution_count": 41,
   "id": "fa2a703a",
   "metadata": {},
   "outputs": [],
   "source": [
    "\n",
    "if model_name == 'sasrec':\n",
    "    model = SASREC(item_num=dataset.itemnum,\n",
    "                   seq_max_len=maxlen,\n",
    "                   num_blocks=num_blocks,\n",
    "                   embedding_dim=hidden_units,\n",
    "                   attention_dim=hidden_units,\n",
    "                   attention_num_heads=num_heads,\n",
    "                   dropout_rate=dropout_rate,\n",
    "                   conv_dims = [100, 100],\n",
    "                   l2_reg=l2_emb,\n",
    "                   num_neg_test=num_neg_test\n",
    "    )\n",
    "elif model_name == \"ssept\":\n",
    "    model = SSEPT(item_num=dataset.itemnum,\n",
    "                  user_num=dataset.usernum,\n",
    "                  seq_max_len=maxlen,\n",
    "                  num_blocks=num_blocks,\n",
    "                  embedding_dim=hidden_units,\n",
    "                  user_embedding_dim=10,\n",
    "                  item_embedding_dim=hidden_units,\n",
    "                  attention_dim=hidden_units,\n",
    "                  attention_num_heads=num_heads,\n",
    "                  dropout_rate=dropout_rate,\n",
    "                  conv_dims = [110, 110],\n",
    "                  l2_reg=l2_emb,\n",
    "                  num_neg_test=num_neg_test\n",
    "    )\n",
    "else:\n",
    "    print(f\"Model-{model_name} not found\")"
   ]
  },
  {
   "cell_type": "code",
   "execution_count": 42,
   "id": "f5baf430",
   "metadata": {},
   "outputs": [
    {
     "name": "stderr",
     "output_type": "stream",
     "text": [
      "                                                                      "
     ]
    },
    {
     "name": "stdout",
     "output_type": "stream",
     "text": [
      "\n",
      "epoch: 5, test (NDCG@10: 0.5999530752781915, HR@10: 0.7717775634844102)\n",
      "Time cost for training is 2.48 mins\n"
     ]
    },
    {
     "name": "stderr",
     "output_type": "stream",
     "text": [
      "\r"
     ]
    }
   ],
   "source": [
    "\n",
    "with Timer() as train_time:\n",
    "    t_test = model.train(dataset, sampler,\n",
    "                         num_epochs=num_epochs,\n",
    "                         batch_size=batch_size,\n",
    "                         lr=lr, val_epoch=6,\n",
    "                         model_path = str(CKPT_DIR))\n",
    "\n",
    "print('Time cost for training is {0:.2f} mins'.format(train_time.interval/60.0))"
   ]
  },
  {
   "cell_type": "code",
   "execution_count": 43,
   "id": "fec2f957",
   "metadata": {},
   "outputs": [
    {
     "data": {
      "application/notebook_utils.json+json": {
       "data": 0.5999530752781915,
       "encoder": "json",
       "name": "ndcg@10"
      }
     },
     "metadata": {
      "notebook_utils": {
       "data": true,
       "display": false,
       "name": "ndcg@10"
      }
     },
     "output_type": "display_data"
    },
    {
     "data": {
      "application/notebook_utils.json+json": {
       "data": 0.7717775634844102,
       "encoder": "json",
       "name": "Hit@10"
      }
     },
     "metadata": {
      "notebook_utils": {
       "data": true,
       "display": false,
       "name": "Hit@10"
      }
     },
     "output_type": "display_data"
    }
   ],
   "source": [
    "store_metadata(\"ndcg@10\", t_test[0])\n",
    "store_metadata(\"Hit@10\", t_test[1])"
   ]
  },
  {
   "cell_type": "code",
   "execution_count": 44,
   "id": "667e141c",
   "metadata": {},
   "outputs": [
    {
     "data": {
      "text/plain": [
       "'data/ckpt/sasrec.ckpt'"
      ]
     },
     "execution_count": 44,
     "metadata": {},
     "output_type": "execute_result"
    }
   ],
   "source": [
    "# after training:\n",
    "ckpt = tf.train.Checkpoint(model=model)\n",
    "ckpt.write(str(CKPT_DIR / \"sasrec.ckpt\"))\n"
   ]
  },
  {
   "cell_type": "code",
   "execution_count": 45,
   "id": "57754ed9",
   "metadata": {},
   "outputs": [],
   "source": [
    "import json\n",
    "\n",
    "config = {\n",
    "    \"item_num\": dataset.itemnum,\n",
    "    \"seq_max_len\": maxlen,\n",
    "    \"num_blocks\": num_blocks,\n",
    "    \"embedding_dim\": hidden_units,\n",
    "    \"attention_dim\": hidden_units,\n",
    "    \"attention_num_heads\": num_heads,\n",
    "    \"dropout_rate\": dropout_rate,\n",
    "    \"conv_dims\": [100, 100],\n",
    "    \"l2_reg\": l2_emb,\n",
    "    \"num_neg_test\": num_neg_test\n",
    "}\n",
    "with open(CKPT_DIR / \"sasrec_config.json\", \"w\") as f:\n",
    "    json.dump(config, f)"
   ]
  }
 ],
 "metadata": {
  "kernelspec": {
   "display_name": "recommendation",
   "language": "python",
   "name": "python3"
  },
  "language_info": {
   "codemirror_mode": {
    "name": "ipython",
    "version": 3
   },
   "file_extension": ".py",
   "mimetype": "text/x-python",
   "name": "python",
   "nbconvert_exporter": "python",
   "pygments_lexer": "ipython3",
   "version": "3.9.18"
  }
 },
 "nbformat": 4,
 "nbformat_minor": 5
}
