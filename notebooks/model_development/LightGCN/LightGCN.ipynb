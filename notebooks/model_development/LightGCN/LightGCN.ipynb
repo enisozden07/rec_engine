{
  "cells": [
    {
      "cell_type": "code",
      "execution_count": 1,
      "metadata": {
        "colab": {
          "base_uri": "https://localhost:8080/"
        },
        "id": "XTs3SeC3LIYG",
        "outputId": "80bfb806-3342-4275-cb75-9ca26bb883e0"
      },
      "outputs": [
        {
          "name": "stderr",
          "output_type": "stream",
          "text": [
            "2025-05-05 20:52:15.621430: I tensorflow/core/util/port.cc:111] oneDNN custom operations are on. You may see slightly different numerical results due to floating-point round-off errors from different computation orders. To turn them off, set the environment variable `TF_ENABLE_ONEDNN_OPTS=0`.\n",
            "2025-05-05 20:52:15.646605: E tensorflow/compiler/xla/stream_executor/cuda/cuda_dnn.cc:9342] Unable to register cuDNN factory: Attempting to register factory for plugin cuDNN when one has already been registered\n",
            "2025-05-05 20:52:15.646631: E tensorflow/compiler/xla/stream_executor/cuda/cuda_fft.cc:609] Unable to register cuFFT factory: Attempting to register factory for plugin cuFFT when one has already been registered\n",
            "2025-05-05 20:52:15.646650: E tensorflow/compiler/xla/stream_executor/cuda/cuda_blas.cc:1518] Unable to register cuBLAS factory: Attempting to register factory for plugin cuBLAS when one has already been registered\n",
            "2025-05-05 20:52:15.651801: I tensorflow/core/platform/cpu_feature_guard.cc:182] This TensorFlow binary is optimized to use available CPU instructions in performance-critical operations.\n",
            "To enable the following instructions: AVX2 AVX_VNNI FMA, in other operations, rebuild TensorFlow with the appropriate compiler flags.\n"
          ]
        },
        {
          "name": "stdout",
          "output_type": "stream",
          "text": [
            "System version: 3.9.18 | packaged by conda-forge | (main, Dec 23 2023, 16:33:10) \n",
            "[GCC 12.3.0]\n",
            "Pandas version: 2.2.3\n",
            "Tensorflow version: 2.14.0\n"
          ]
        }
      ],
      "source": [
        "import sys\n",
        "import os\n",
        "import pandas as pd\n",
        "import numpy as np\n",
        "import tensorflow as tf\n",
        "tf.get_logger().setLevel('ERROR') # only show error messages\n",
        "\n",
        "import pickle\n",
        "\n",
        "from recommenders.utils.timer import Timer\n",
        "from recommenders.models.deeprec.models.graphrec.lightgcn import LightGCN\n",
        "from recommenders.models.deeprec.DataModel.ImplicitCF import ImplicitCF\n",
        "from recommenders.evaluation.python_evaluation import map, ndcg_at_k, precision_at_k, recall_at_k\n",
        "from recommenders.utils.constants import SEED as DEFAULT_SEED\n",
        "from recommenders.models.deeprec.deeprec_utils import prepare_hparams\n",
        "from recommenders.utils.notebook_utils import store_metadata\n",
        "\n",
        "print(f\"System version: {sys.version}\")\n",
        "print(f\"Pandas version: {pd.__version__}\")\n",
        "print(f\"Tensorflow version: {tf.__version__}\")"
      ]
    },
    {
      "cell_type": "code",
      "execution_count": 2,
      "metadata": {
        "id": "PboCg6iXLSVn"
      },
      "outputs": [],
      "source": [
        "# Customers: 111K\n",
        "# Average number of transactions per customer: 13.7\n",
        "# Average number of items per transaction: 3.2\n",
        "# Total unique transactions: 2.9M\n",
        "# Total interactions: ~9M\n",
        "\n",
        "TRANSACTIONS_PATH = '../../../data/processed/model_ready.csv'\n",
        "LIGHT_GCN_YAML = 'data/lightgcn.yaml'"
      ]
    },
    {
      "cell_type": "code",
      "execution_count": 3,
      "metadata": {
        "id": "RU_dLf6QLTUT"
      },
      "outputs": [],
      "source": [
        "TOP_K = 10 # top k items recommend\n",
        "EPOCHS = 50 # go with 10\n",
        "BATCH_SIZE = 2048 # if we have spare GPU/Colab RAM, push up to 8192 or even 16384\n",
        "SEED = DEFAULT_SEED # set None for non-deterministic results"
      ]
    },
    {
      "cell_type": "code",
      "execution_count": 4,
      "metadata": {
        "colab": {
          "base_uri": "https://localhost:8080/",
          "height": 206
        },
        "id": "soOUbnZeLUbR",
        "outputId": "98e9b328-7e56-4e25-e967-3285ec20ddb4"
      },
      "outputs": [
        {
          "data": {
            "text/html": [
              "<div>\n",
              "<style scoped>\n",
              "    .dataframe tbody tr th:only-of-type {\n",
              "        vertical-align: middle;\n",
              "    }\n",
              "\n",
              "    .dataframe tbody tr th {\n",
              "        vertical-align: top;\n",
              "    }\n",
              "\n",
              "    .dataframe thead th {\n",
              "        text-align: right;\n",
              "    }\n",
              "</style>\n",
              "<table border=\"1\" class=\"dataframe\">\n",
              "  <thead>\n",
              "    <tr style=\"text-align: right;\">\n",
              "      <th></th>\n",
              "      <th>userID</th>\n",
              "      <th>itemID</th>\n",
              "      <th>rating</th>\n",
              "      <th>timestamp</th>\n",
              "    </tr>\n",
              "  </thead>\n",
              "  <tbody>\n",
              "    <tr>\n",
              "      <th>0</th>\n",
              "      <td>1</td>\n",
              "      <td>1</td>\n",
              "      <td>0.420415</td>\n",
              "      <td>2025-03-21 06:10:09</td>\n",
              "    </tr>\n",
              "    <tr>\n",
              "      <th>1</th>\n",
              "      <td>2</td>\n",
              "      <td>2</td>\n",
              "      <td>0.666342</td>\n",
              "      <td>2025-03-21 06:35:18</td>\n",
              "    </tr>\n",
              "    <tr>\n",
              "      <th>2</th>\n",
              "      <td>3</td>\n",
              "      <td>3</td>\n",
              "      <td>0.666342</td>\n",
              "      <td>2025-03-21 06:48:35</td>\n",
              "    </tr>\n",
              "    <tr>\n",
              "      <th>3</th>\n",
              "      <td>4</td>\n",
              "      <td>4</td>\n",
              "      <td>0.666342</td>\n",
              "      <td>2025-03-21 06:56:18</td>\n",
              "    </tr>\n",
              "    <tr>\n",
              "      <th>4</th>\n",
              "      <td>5</td>\n",
              "      <td>5</td>\n",
              "      <td>0.420415</td>\n",
              "      <td>2025-03-21 07:16:02</td>\n",
              "    </tr>\n",
              "  </tbody>\n",
              "</table>\n",
              "</div>"
            ],
            "text/plain": [
              "   userID  itemID    rating            timestamp\n",
              "0       1       1  0.420415  2025-03-21 06:10:09\n",
              "1       2       2  0.666342  2025-03-21 06:35:18\n",
              "2       3       3  0.666342  2025-03-21 06:48:35\n",
              "3       4       4  0.666342  2025-03-21 06:56:18\n",
              "4       5       5  0.420415  2025-03-21 07:16:02"
            ]
          },
          "execution_count": 4,
          "metadata": {},
          "output_type": "execute_result"
        }
      ],
      "source": [
        "# Load data (takes about 1 minute)\n",
        "transactions = pd.read_csv(TRANSACTIONS_PATH)\n",
        "transactions.head()"
      ]
    },
    {
      "cell_type": "code",
      "execution_count": 5,
      "metadata": {
        "id": "gMKNNKRULVdO"
      },
      "outputs": [],
      "source": [
        "transactions.shape\n",
        "# drop lines with no LoyaltyCardIdentifier or UPC\n",
        "transactions = transactions.dropna(subset=['userID', 'itemID'])\n",
        "df = transactions.copy()"
      ]
    },
    {
      "cell_type": "code",
      "execution_count": 6,
      "metadata": {
        "id": "FE5ysJ14LXiU"
      },
      "outputs": [],
      "source": [
        "# only UPCs that are not -1 or 0\n",
        "df = df[df['itemID'] != -1]\n",
        "df = df[df['itemID'] != 0]\n",
        "# time aware train/test split\n",
        "df[\"timestamp\"] = pd.to_datetime(df[\"timestamp\"])"
      ]
    },
    {
      "cell_type": "code",
      "execution_count": 7,
      "metadata": {
        "id": "6bb3dxXQLdRx"
      },
      "outputs": [],
      "source": [
        "from datetime import timedelta"
      ]
    },
    {
      "cell_type": "code",
      "execution_count": 8,
      "metadata": {
        "colab": {
          "base_uri": "https://localhost:8080/"
        },
        "id": "NcvC2yKGR6Jp",
        "outputId": "614ce482-06a9-4ee1-f371-166fa056364d"
      },
      "outputs": [
        {
          "name": "stdout",
          "output_type": "stream",
          "text": [
            "Train: 2025-01-01 00:01:28 → 2025-03-13 23:43:54\n",
            "Test:  2025-03-14 00:04:56 → 2025-03-31 23:56:35\n"
          ]
        }
      ],
      "source": [
        "cutoff = df.timestamp.max() - timedelta(days=18)\n",
        "train_df = df[df.timestamp < cutoff].reset_index(drop=True)\n",
        "test_df  = df[df.timestamp >= cutoff].reset_index(drop=True)\n",
        "\n",
        "print(\"Train:\", train_df.timestamp.min(), \"→\", train_df.timestamp.max())\n",
        "print(\"Test: \", test_df.timestamp.min(),  \"→\", test_df.timestamp.max())"
      ]
    },
    {
      "cell_type": "code",
      "execution_count": 9,
      "metadata": {
        "id": "crvvnLKJLqWm"
      },
      "outputs": [],
      "source": [
        "# Filter out test dataset as to contain only customers that are present in the training set\n",
        "test_df = test_df[test_df.userID.isin(train_df.userID)]"
      ]
    },
    {
      "cell_type": "code",
      "execution_count": 10,
      "metadata": {
        "id": "9NfPzMtqLtDk"
      },
      "outputs": [],
      "source": [
        "## Create and Train the Model"
      ]
    },
    {
      "cell_type": "code",
      "execution_count": 11,
      "metadata": {
        "id": "vbpT2SWJLrjI"
      },
      "outputs": [],
      "source": [
        "data = ImplicitCF(train=train_df, test=test_df, seed=SEED)"
      ]
    },
    {
      "cell_type": "code",
      "execution_count": 12,
      "metadata": {
        "id": "Zv0lfJ9cR9EP"
      },
      "outputs": [],
      "source": [
        "yaml_file = LIGHT_GCN_YAML\n",
        "hparams = prepare_hparams(LIGHT_GCN_YAML,\n",
        "                          batch_size=BATCH_SIZE,\n",
        "                          epochs=EPOCHS,\n",
        "                          learning_rate=0.01,\n",
        "                          eval_epoch=5,\n",
        "                          top_k=TOP_K)"
      ]
    },
    {
      "cell_type": "code",
      "execution_count": 13,
      "metadata": {
        "colab": {
          "base_uri": "https://localhost:8080/"
        },
        "id": "ZMsgJkupR-H9",
        "outputId": "dd02af51-06bb-4ed8-b100-ba8f30293e09"
      },
      "outputs": [
        {
          "name": "stdout",
          "output_type": "stream",
          "text": [
            "Already create adjacency matrix.\n",
            "Already normalize adjacency matrix.\n",
            "Using xavier initialization.\n"
          ]
        },
        {
          "name": "stderr",
          "output_type": "stream",
          "text": [
            "2025-05-05 20:52:26.063893: I tensorflow/compiler/xla/stream_executor/cuda/cuda_gpu_executor.cc:894] successful NUMA node read from SysFS had negative value (-1), but there must be at least one NUMA node, so returning NUMA node zero. See more at https://github.com/torvalds/linux/blob/v6.0/Documentation/ABI/testing/sysfs-bus-pci#L344-L355\n",
            "2025-05-05 20:52:26.066984: I tensorflow/compiler/xla/stream_executor/cuda/cuda_gpu_executor.cc:894] successful NUMA node read from SysFS had negative value (-1), but there must be at least one NUMA node, so returning NUMA node zero. See more at https://github.com/torvalds/linux/blob/v6.0/Documentation/ABI/testing/sysfs-bus-pci#L344-L355\n",
            "2025-05-05 20:52:26.067090: I tensorflow/compiler/xla/stream_executor/cuda/cuda_gpu_executor.cc:894] successful NUMA node read from SysFS had negative value (-1), but there must be at least one NUMA node, so returning NUMA node zero. See more at https://github.com/torvalds/linux/blob/v6.0/Documentation/ABI/testing/sysfs-bus-pci#L344-L355\n",
            "2025-05-05 20:52:26.111757: I tensorflow/compiler/xla/stream_executor/cuda/cuda_gpu_executor.cc:894] successful NUMA node read from SysFS had negative value (-1), but there must be at least one NUMA node, so returning NUMA node zero. See more at https://github.com/torvalds/linux/blob/v6.0/Documentation/ABI/testing/sysfs-bus-pci#L344-L355\n",
            "2025-05-05 20:52:26.111873: I tensorflow/compiler/xla/stream_executor/cuda/cuda_gpu_executor.cc:894] successful NUMA node read from SysFS had negative value (-1), but there must be at least one NUMA node, so returning NUMA node zero. See more at https://github.com/torvalds/linux/blob/v6.0/Documentation/ABI/testing/sysfs-bus-pci#L344-L355\n",
            "2025-05-05 20:52:26.111946: I tensorflow/compiler/xla/stream_executor/cuda/cuda_gpu_executor.cc:894] successful NUMA node read from SysFS had negative value (-1), but there must be at least one NUMA node, so returning NUMA node zero. See more at https://github.com/torvalds/linux/blob/v6.0/Documentation/ABI/testing/sysfs-bus-pci#L344-L355\n",
            "2025-05-05 20:52:26.112009: I tensorflow/core/common_runtime/gpu/gpu_device.cc:1886] Created device /job:localhost/replica:0/task:0/device:GPU:0 with 3850 MB memory:  -> device: 0, name: NVIDIA GeForce RTX 3070 Ti Laptop GPU, pci bus id: 0000:01:00.0, compute capability: 8.6\n",
            "2025-05-05 20:52:26.117030: I tensorflow/compiler/mlir/mlir_graph_optimization_pass.cc:382] MLIR V1 optimization pass is not enabled\n"
          ]
        }
      ],
      "source": [
        "if not hasattr(np, \"mat\"):\n",
        "    np.mat = np.matrix\n",
        "model = LightGCN(hparams, data, seed=SEED)"
      ]
    },
    {
      "cell_type": "code",
      "execution_count": 14,
      "metadata": {
        "colab": {
          "base_uri": "https://localhost:8080/"
        },
        "id": "bbcinRjFR_1e",
        "outputId": "65554fa1-68b0-4b63-bbc9-6845ce6c2e1b"
      },
      "outputs": [
        {
          "name": "stdout",
          "output_type": "stream",
          "text": [
            "Epoch 1 (train)3.5s: train loss = 0.27127 = (mf)0.27062 + (embed)0.00065\n",
            "Epoch 2 (train)3.1s: train loss = 0.10881 = (mf)0.10695 + (embed)0.00186\n",
            "Epoch 3 (train)3.1s: train loss = 0.06119 = (mf)0.05828 + (embed)0.00290\n",
            "Epoch 4 (train)3.1s: train loss = 0.04185 = (mf)0.03820 + (embed)0.00365\n",
            "Epoch 5 (train)3.0s + (eval)1.9s: train loss = 0.03271 = (mf)0.02851 + (embed)0.00420, recall = 0.05913, ndcg = 0.05163, precision = 0.01791, map = 0.02729\n",
            "Epoch 6 (train)3.1s: train loss = 0.02635 = (mf)0.02174 + (embed)0.00461\n",
            "Epoch 7 (train)3.0s: train loss = 0.02373 = (mf)0.01880 + (embed)0.00492\n",
            "Epoch 8 (train)3.0s: train loss = 0.02069 = (mf)0.01553 + (embed)0.00515\n",
            "Epoch 9 (train)3.0s: train loss = 0.01932 = (mf)0.01399 + (embed)0.00533\n",
            "Epoch 10 (train)3.0s + (eval)1.8s: train loss = 0.01755 = (mf)0.01210 + (embed)0.00545, recall = 0.05133, ndcg = 0.04475, precision = 0.01503, map = 0.02439\n",
            "Epoch 11 (train)3.0s: train loss = 0.01677 = (mf)0.01123 + (embed)0.00553\n",
            "Epoch 12 (train)3.0s: train loss = 0.01569 = (mf)0.01011 + (embed)0.00558\n",
            "Epoch 13 (train)3.0s: train loss = 0.01522 = (mf)0.00960 + (embed)0.00562\n",
            "Epoch 14 (train)3.0s: train loss = 0.01470 = (mf)0.00908 + (embed)0.00562\n",
            "Epoch 15 (train)3.0s + (eval)1.7s: train loss = 0.01377 = (mf)0.00815 + (embed)0.00562, recall = 0.05316, ndcg = 0.04894, precision = 0.01598, map = 0.02647\n",
            "Epoch 16 (train)3.0s: train loss = 0.01351 = (mf)0.00791 + (embed)0.00560\n",
            "Epoch 17 (train)3.0s: train loss = 0.01287 = (mf)0.00730 + (embed)0.00557\n",
            "Epoch 18 (train)3.0s: train loss = 0.01249 = (mf)0.00697 + (embed)0.00552\n",
            "Epoch 19 (train)3.1s: train loss = 0.01252 = (mf)0.00704 + (embed)0.00548\n",
            "Epoch 20 (train)3.1s + (eval)1.9s: train loss = 0.01207 = (mf)0.00665 + (embed)0.00542, recall = 0.05268, ndcg = 0.04793, precision = 0.01608, map = 0.02588\n",
            "Epoch 21 (train)3.1s: train loss = 0.01178 = (mf)0.00641 + (embed)0.00537\n",
            "Epoch 22 (train)3.1s: train loss = 0.01165 = (mf)0.00633 + (embed)0.00532\n",
            "Epoch 23 (train)3.1s: train loss = 0.01115 = (mf)0.00589 + (embed)0.00526\n",
            "Epoch 24 (train)3.1s: train loss = 0.01114 = (mf)0.00593 + (embed)0.00520\n",
            "Epoch 25 (train)3.1s + (eval)1.8s: train loss = 0.01081 = (mf)0.00566 + (embed)0.00515, recall = 0.05151, ndcg = 0.04792, precision = 0.01584, map = 0.02570\n",
            "Epoch 26 (train)3.1s: train loss = 0.01057 = (mf)0.00547 + (embed)0.00509\n",
            "Epoch 27 (train)3.1s: train loss = 0.01036 = (mf)0.00532 + (embed)0.00504\n",
            "Epoch 28 (train)3.1s: train loss = 0.01028 = (mf)0.00530 + (embed)0.00499\n",
            "Epoch 29 (train)3.2s: train loss = 0.01029 = (mf)0.00535 + (embed)0.00494\n",
            "Epoch 30 (train)3.2s + (eval)1.9s: train loss = 0.00988 = (mf)0.00499 + (embed)0.00489, recall = 0.05090, ndcg = 0.04652, precision = 0.01546, map = 0.02454\n",
            "Epoch 31 (train)3.2s: train loss = 0.00991 = (mf)0.00506 + (embed)0.00485\n",
            "Epoch 32 (train)3.1s: train loss = 0.00999 = (mf)0.00517 + (embed)0.00481\n",
            "Epoch 33 (train)3.1s: train loss = 0.00953 = (mf)0.00475 + (embed)0.00478\n",
            "Epoch 34 (train)3.1s: train loss = 0.00946 = (mf)0.00473 + (embed)0.00473\n",
            "Epoch 35 (train)3.2s + (eval)2.0s: train loss = 0.00932 = (mf)0.00462 + (embed)0.00471, recall = 0.04962, ndcg = 0.04478, precision = 0.01490, map = 0.02354\n",
            "Epoch 36 (train)3.2s: train loss = 0.00951 = (mf)0.00483 + (embed)0.00468\n",
            "Epoch 37 (train)3.1s: train loss = 0.00927 = (mf)0.00461 + (embed)0.00466\n",
            "Epoch 38 (train)3.1s: train loss = 0.00909 = (mf)0.00446 + (embed)0.00463\n",
            "Epoch 39 (train)3.1s: train loss = 0.00906 = (mf)0.00446 + (embed)0.00460\n",
            "Epoch 40 (train)3.1s + (eval)1.9s: train loss = 0.00882 = (mf)0.00424 + (embed)0.00457, recall = 0.04974, ndcg = 0.04612, precision = 0.01499, map = 0.02461\n",
            "Epoch 41 (train)3.2s: train loss = 0.00880 = (mf)0.00425 + (embed)0.00455\n",
            "Epoch 42 (train)3.2s: train loss = 0.00889 = (mf)0.00437 + (embed)0.00452\n",
            "Epoch 43 (train)3.1s: train loss = 0.00886 = (mf)0.00436 + (embed)0.00451\n",
            "Epoch 44 (train)3.1s: train loss = 0.00881 = (mf)0.00432 + (embed)0.00449\n",
            "Epoch 45 (train)3.2s + (eval)2.0s: train loss = 0.00857 = (mf)0.00410 + (embed)0.00447, recall = 0.04464, ndcg = 0.03928, precision = 0.01327, map = 0.02135\n",
            "Epoch 46 (train)3.2s: train loss = 0.00846 = (mf)0.00400 + (embed)0.00445\n",
            "Epoch 47 (train)3.2s: train loss = 0.00851 = (mf)0.00408 + (embed)0.00443\n",
            "Epoch 48 (train)3.2s: train loss = 0.00859 = (mf)0.00418 + (embed)0.00441\n",
            "Epoch 49 (train)3.2s: train loss = 0.00847 = (mf)0.00406 + (embed)0.00440\n",
            "Epoch 50 (train)3.2s + (eval)2.0s: train loss = 0.00816 = (mf)0.00378 + (embed)0.00438, recall = 0.04942, ndcg = 0.04713, precision = 0.01526, map = 0.02502\n",
            "Took 174.42655732300045 seconds for training.\n"
          ]
        }
      ],
      "source": [
        "with Timer() as train_time:\n",
        "    model.fit()\n",
        "\n",
        "print(\"Took {} seconds for training.\".format(train_time.interval))"
      ]
    },
    {
      "cell_type": "code",
      "execution_count": 15,
      "metadata": {
        "colab": {
          "base_uri": "https://localhost:8080/",
          "height": 206
        },
        "id": "Blo2Fp4bSBAw",
        "outputId": "024f9add-353a-4995-e3e9-f1e78b77ffd2"
      },
      "outputs": [
        {
          "data": {
            "text/html": [
              "<div>\n",
              "<style scoped>\n",
              "    .dataframe tbody tr th:only-of-type {\n",
              "        vertical-align: middle;\n",
              "    }\n",
              "\n",
              "    .dataframe tbody tr th {\n",
              "        vertical-align: top;\n",
              "    }\n",
              "\n",
              "    .dataframe thead th {\n",
              "        text-align: right;\n",
              "    }\n",
              "</style>\n",
              "<table border=\"1\" class=\"dataframe\">\n",
              "  <thead>\n",
              "    <tr style=\"text-align: right;\">\n",
              "      <th></th>\n",
              "      <th>userID</th>\n",
              "      <th>itemID</th>\n",
              "      <th>prediction</th>\n",
              "    </tr>\n",
              "  </thead>\n",
              "  <tbody>\n",
              "    <tr>\n",
              "      <th>0</th>\n",
              "      <td>1</td>\n",
              "      <td>19</td>\n",
              "      <td>8.544017</td>\n",
              "    </tr>\n",
              "    <tr>\n",
              "      <th>1</th>\n",
              "      <td>1</td>\n",
              "      <td>262</td>\n",
              "      <td>8.326998</td>\n",
              "    </tr>\n",
              "    <tr>\n",
              "      <th>2</th>\n",
              "      <td>1</td>\n",
              "      <td>540</td>\n",
              "      <td>7.442498</td>\n",
              "    </tr>\n",
              "    <tr>\n",
              "      <th>3</th>\n",
              "      <td>1</td>\n",
              "      <td>10</td>\n",
              "      <td>6.892238</td>\n",
              "    </tr>\n",
              "    <tr>\n",
              "      <th>4</th>\n",
              "      <td>1</td>\n",
              "      <td>41</td>\n",
              "      <td>6.819953</td>\n",
              "    </tr>\n",
              "  </tbody>\n",
              "</table>\n",
              "</div>"
            ],
            "text/plain": [
              "   userID  itemID  prediction\n",
              "0       1      19    8.544017\n",
              "1       1     262    8.326998\n",
              "2       1     540    7.442498\n",
              "3       1      10    6.892238\n",
              "4       1      41    6.819953"
            ]
          },
          "execution_count": 15,
          "metadata": {},
          "output_type": "execute_result"
        }
      ],
      "source": [
        "topk_scores = model.recommend_k_items(test_df, top_k=TOP_K, remove_seen=True)\n",
        "\n",
        "topk_scores.head()"
      ]
    },
    {
      "cell_type": "code",
      "execution_count": 16,
      "metadata": {
        "colab": {
          "base_uri": "https://localhost:8080/"
        },
        "id": "rLEWSVKbSCLm",
        "outputId": "f36c8d4c-0da1-4482-fac4-ae195d39fcc4"
      },
      "outputs": [
        {
          "name": "stdout",
          "output_type": "stream",
          "text": [
            "MAP:\t0.024021\n",
            "NDCG:\t0.047133\n",
            "Precision@K:\t0.015257\n",
            "Recall@K:\t0.049419\n"
          ]
        }
      ],
      "source": [
        "eval_map = map(test_df, topk_scores, k=TOP_K)\n",
        "eval_ndcg = ndcg_at_k(test_df, topk_scores, k=TOP_K)\n",
        "eval_precision = precision_at_k(test_df, topk_scores, k=TOP_K)\n",
        "eval_recall = recall_at_k(test_df, topk_scores, k=TOP_K)\n",
        "\n",
        "print(\"MAP:\\t%f\" % eval_map,\n",
        "      \"NDCG:\\t%f\" % eval_ndcg,\n",
        "      \"Precision@K:\\t%f\" % eval_precision,\n",
        "      \"Recall@K:\\t%f\" % eval_recall, sep='\\n')"
      ]
    },
    {
      "cell_type": "code",
      "execution_count": 17,
      "metadata": {
        "colab": {
          "base_uri": "https://localhost:8080/",
          "height": 17
        },
        "id": "rBvhG-YsSEL4",
        "outputId": "ae6a4ae3-59a5-44a6-f29e-6fcfcf9b6d49"
      },
      "outputs": [
        {
          "data": {
            "application/notebook_utils.json+json": {
              "data": 0.02402071494229811,
              "encoder": "json",
              "name": "map"
            }
          },
          "metadata": {
            "notebook_utils": {
              "data": true,
              "display": false,
              "name": "map"
            }
          },
          "output_type": "display_data"
        },
        {
          "data": {
            "application/notebook_utils.json+json": {
              "data": 0.0471328071808954,
              "encoder": "json",
              "name": "ndcg"
            }
          },
          "metadata": {
            "notebook_utils": {
              "data": true,
              "display": false,
              "name": "ndcg"
            }
          },
          "output_type": "display_data"
        },
        {
          "data": {
            "application/notebook_utils.json+json": {
              "data": 0.015257422021796318,
              "encoder": "json",
              "name": "precision"
            }
          },
          "metadata": {
            "notebook_utils": {
              "data": true,
              "display": false,
              "name": "precision"
            }
          },
          "output_type": "display_data"
        },
        {
          "data": {
            "application/notebook_utils.json+json": {
              "data": 0.049418552802640375,
              "encoder": "json",
              "name": "recall"
            }
          },
          "metadata": {
            "notebook_utils": {
              "data": true,
              "display": false,
              "name": "recall"
            }
          },
          "output_type": "display_data"
        }
      ],
      "source": [
        "\n",
        "# Record results for tests - ignore this cell\n",
        "store_metadata(\"map\", eval_map)\n",
        "store_metadata(\"ndcg\", eval_ndcg)\n",
        "store_metadata(\"precision\", eval_precision)\n",
        "store_metadata(\"recall\", eval_recall)"
      ]
    },
    {
      "cell_type": "code",
      "execution_count": 18,
      "metadata": {
        "id": "4r5e2qXVSFOW"
      },
      "outputs": [],
      "source": [
        "user_file = 'data/user_embeddings.csv'\n",
        "item_file = 'data/item_embeddings.csv'\n",
        "model.infer_embedding(user_file, item_file)"
      ]
    },
    {
      "cell_type": "markdown",
      "metadata": {
        "id": "HR1pX9f7KuGi"
      },
      "source": []
    }
  ],
  "metadata": {
    "accelerator": "GPU",
    "colab": {
      "gpuType": "A100",
      "machine_shape": "hm",
      "provenance": []
    },
    "kernelspec": {
      "display_name": "recommendation",
      "language": "python",
      "name": "python3"
    },
    "language_info": {
      "codemirror_mode": {
        "name": "ipython",
        "version": 3
      },
      "file_extension": ".py",
      "mimetype": "text/x-python",
      "name": "python",
      "nbconvert_exporter": "python",
      "pygments_lexer": "ipython3",
      "version": "3.9.18"
    }
  },
  "nbformat": 4,
  "nbformat_minor": 0
}
