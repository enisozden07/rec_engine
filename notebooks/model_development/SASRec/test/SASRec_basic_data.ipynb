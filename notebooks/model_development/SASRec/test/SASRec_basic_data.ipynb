{
 "cells": [
  {
   "cell_type": "code",
   "execution_count": 1,
   "id": "f87cea11",
   "metadata": {},
   "outputs": [
    {
     "name": "stderr",
     "output_type": "stream",
     "text": [
      "2025-04-29 18:27:54.614562: I tensorflow/core/util/port.cc:111] oneDNN custom operations are on. You may see slightly different numerical results due to floating-point round-off errors from different computation orders. To turn them off, set the environment variable `TF_ENABLE_ONEDNN_OPTS=0`.\n",
      "2025-04-29 18:27:54.917232: E tensorflow/compiler/xla/stream_executor/cuda/cuda_dnn.cc:9342] Unable to register cuDNN factory: Attempting to register factory for plugin cuDNN when one has already been registered\n",
      "2025-04-29 18:27:54.917257: E tensorflow/compiler/xla/stream_executor/cuda/cuda_fft.cc:609] Unable to register cuFFT factory: Attempting to register factory for plugin cuFFT when one has already been registered\n",
      "2025-04-29 18:27:54.918490: E tensorflow/compiler/xla/stream_executor/cuda/cuda_blas.cc:1518] Unable to register cuBLAS factory: Attempting to register factory for plugin cuBLAS when one has already been registered\n",
      "2025-04-29 18:27:55.037617: I tensorflow/core/platform/cpu_feature_guard.cc:182] This TensorFlow binary is optimized to use available CPU instructions in performance-critical operations.\n",
      "To enable the following instructions: AVX2 AVX_VNNI FMA, in other operations, rebuild TensorFlow with the appropriate compiler flags.\n"
     ]
    },
    {
     "name": "stdout",
     "output_type": "stream",
     "text": [
      "System version: 3.9.18 | packaged by conda-forge | (main, Dec 23 2023, 16:33:10) \n",
      "[GCC 12.3.0]\n",
      "Tensorflow version: 2.14.0\n"
     ]
    }
   ],
   "source": [
    "import sys\n",
    "import os\n",
    "import argparse, json, math\n",
    "from pathlib import Path\n",
    "import pandas as pd\n",
    "import numpy as np\n",
    "import tensorflow as tf, os\n",
    "from tqdm import tqdm\n",
    "tf.get_logger().setLevel('ERROR') # only show error messages\n",
    "\n",
    "\n",
    "from recommenders.models.sasrec.model import SASREC\n",
    "from recommenders.models.sasrec.ssept import SSEPT\n",
    "from recommenders.models.sasrec.sampler import WarpSampler\n",
    "from recommenders.models.sasrec.util import SASRecDataSet\n",
    "from recommenders.utils.notebook_utils import store_metadata\n",
    "from recommenders.utils.timer import Timer\n",
    "\n",
    "\n",
    "print(f\"System version: {sys.version}\")\n",
    "print(f\"Tensorflow version: {tf.__version__}\")"
   ]
  },
  {
   "cell_type": "code",
   "execution_count": 2,
   "id": "fee08609",
   "metadata": {},
   "outputs": [
    {
     "name": "stdout",
     "output_type": "stream",
     "text": [
      "✅ GPU device: /physical_device:GPU:0\n"
     ]
    },
    {
     "name": "stderr",
     "output_type": "stream",
     "text": [
      "2025-04-29 18:27:57.231526: I tensorflow/compiler/xla/stream_executor/cuda/cuda_gpu_executor.cc:894] successful NUMA node read from SysFS had negative value (-1), but there must be at least one NUMA node, so returning NUMA node zero. See more at https://github.com/torvalds/linux/blob/v6.0/Documentation/ABI/testing/sysfs-bus-pci#L344-L355\n",
      "2025-04-29 18:27:57.272974: I tensorflow/compiler/xla/stream_executor/cuda/cuda_gpu_executor.cc:894] successful NUMA node read from SysFS had negative value (-1), but there must be at least one NUMA node, so returning NUMA node zero. See more at https://github.com/torvalds/linux/blob/v6.0/Documentation/ABI/testing/sysfs-bus-pci#L344-L355\n",
      "2025-04-29 18:27:57.273084: I tensorflow/compiler/xla/stream_executor/cuda/cuda_gpu_executor.cc:894] successful NUMA node read from SysFS had negative value (-1), but there must be at least one NUMA node, so returning NUMA node zero. See more at https://github.com/torvalds/linux/blob/v6.0/Documentation/ABI/testing/sysfs-bus-pci#L344-L355\n"
     ]
    }
   ],
   "source": [
    "gpus = tf.config.list_physical_devices('GPU')\n",
    "assert gpus, \"❌ No GPU visible\"\n",
    "print(\"✅ GPU device:\", gpus[0].name)       # should contain “A100”\n",
    "\n",
    "\n",
    "# faster allocator (TensorFlow >= 2.10)\n",
    "os.environ[\"TF_GPU_ALLOCATOR\"] = \"cuda_malloc_async\""
   ]
  },
  {
   "cell_type": "code",
   "execution_count": 3,
   "id": "204e7ab7",
   "metadata": {},
   "outputs": [],
   "source": [
    "num_epochs = 5\n",
    "batch_size = 512\n",
    "seed = 100  # Set None for non-deterministic result\n",
    "\n",
    "# data_dir = os.path.join(\"tests\", \"recsys_data\", \"RecSys\", \"SASRec-tf2\", \"data\")\n",
    "DATA_DIR = Path(\"data\")\n",
    "SEQ_FILE = DATA_DIR / \"SASRec_data.txt\"    # final tab–separated file\n",
    "MAP_JSON = DATA_DIR / \"id_maps.json\"      # save raw→int mappings here\n",
    "CKPT_DIR = DATA_DIR / \"ckpt\"\n",
    "\n",
    "lr = 0.001             # learning rate\n",
    "maxlen = 50            # maximum sequence length for each user\n",
    "num_blocks = 2         # number of transformer blocks\n",
    "hidden_units = 100     # number of units in the attention calculation\n",
    "num_heads = 1          # number of attention heads\n",
    "dropout_rate = 0.1     # dropout rate\n",
    "l2_emb = 0.0           # L2 regularization coefficient\n",
    "num_neg_test = 100     # number of negative examples per positive example\n",
    "model_name = 'sasrec'  # 'sasrec' or 'ssept'"
   ]
  },
  {
   "cell_type": "code",
   "execution_count": 4,
   "id": "01232818",
   "metadata": {},
   "outputs": [
    {
     "name": "stdout",
     "output_type": "stream",
     "text": [
      "26003 Users and 3738 items\n",
      "average sequence length: 16.75\n"
     ]
    }
   ],
   "source": [
    "dataset = SASRecDataSet(filename=str(SEQ_FILE), col_sep=\"\\t\")\n",
    "dataset.split()                                       # train / valid / test dicts\n",
    "\n",
    "num_steps = int(len(dataset.user_train) / batch_size)\n",
    "cc = 0.0\n",
    "for u in dataset.user_train:\n",
    "    cc += len(dataset.user_train[u])\n",
    "print('%g Users and %g items' % (dataset.usernum, dataset.itemnum))\n",
    "print('average sequence length: %.2f' % (cc / len(dataset.user_train)))"
   ]
  },
  {
   "cell_type": "code",
   "execution_count": 5,
   "id": "661413c4",
   "metadata": {},
   "outputs": [],
   "source": [
    "sampler = WarpSampler(dataset.user_train,\n",
    "                      dataset.usernum, dataset.itemnum,\n",
    "                      batch_size=batch_size,\n",
    "                      maxlen=maxlen, n_workers=3)"
   ]
  },
  {
   "cell_type": "code",
   "execution_count": 6,
   "id": "fa2a703a",
   "metadata": {},
   "outputs": [
    {
     "name": "stderr",
     "output_type": "stream",
     "text": [
      "2025-04-29 18:27:57.672763: I tensorflow/compiler/xla/stream_executor/cuda/cuda_gpu_executor.cc:894] successful NUMA node read from SysFS had negative value (-1), but there must be at least one NUMA node, so returning NUMA node zero. See more at https://github.com/torvalds/linux/blob/v6.0/Documentation/ABI/testing/sysfs-bus-pci#L344-L355\n",
      "2025-04-29 18:27:57.672910: I tensorflow/compiler/xla/stream_executor/cuda/cuda_gpu_executor.cc:894] successful NUMA node read from SysFS had negative value (-1), but there must be at least one NUMA node, so returning NUMA node zero. See more at https://github.com/torvalds/linux/blob/v6.0/Documentation/ABI/testing/sysfs-bus-pci#L344-L355\n",
      "2025-04-29 18:27:57.672975: I tensorflow/compiler/xla/stream_executor/cuda/cuda_gpu_executor.cc:894] successful NUMA node read from SysFS had negative value (-1), but there must be at least one NUMA node, so returning NUMA node zero. See more at https://github.com/torvalds/linux/blob/v6.0/Documentation/ABI/testing/sysfs-bus-pci#L344-L355\n",
      "2025-04-29 18:27:57.729144: I tensorflow/compiler/xla/stream_executor/cuda/cuda_gpu_executor.cc:894] successful NUMA node read from SysFS had negative value (-1), but there must be at least one NUMA node, so returning NUMA node zero. See more at https://github.com/torvalds/linux/blob/v6.0/Documentation/ABI/testing/sysfs-bus-pci#L344-L355\n",
      "2025-04-29 18:27:57.729258: I tensorflow/compiler/xla/stream_executor/cuda/cuda_gpu_executor.cc:894] successful NUMA node read from SysFS had negative value (-1), but there must be at least one NUMA node, so returning NUMA node zero. See more at https://github.com/torvalds/linux/blob/v6.0/Documentation/ABI/testing/sysfs-bus-pci#L344-L355\n",
      "2025-04-29 18:27:57.729317: I tensorflow/core/common_runtime/gpu/gpu_process_state.cc:236] Using CUDA malloc Async allocator for GPU: 0\n",
      "2025-04-29 18:27:57.729650: I tensorflow/compiler/xla/stream_executor/cuda/cuda_gpu_executor.cc:894] successful NUMA node read from SysFS had negative value (-1), but there must be at least one NUMA node, so returning NUMA node zero. See more at https://github.com/torvalds/linux/blob/v6.0/Documentation/ABI/testing/sysfs-bus-pci#L344-L355\n",
      "2025-04-29 18:27:57.729717: I tensorflow/core/common_runtime/gpu/gpu_device.cc:1886] Created device /job:localhost/replica:0/task:0/device:GPU:0 with 5866 MB memory:  -> device: 0, name: NVIDIA GeForce RTX 3070 Ti Laptop GPU, pci bus id: 0000:01:00.0, compute capability: 8.6\n"
     ]
    }
   ],
   "source": [
    "\n",
    "if model_name == 'sasrec':\n",
    "    model = SASREC(item_num=dataset.itemnum,\n",
    "                   seq_max_len=maxlen,\n",
    "                   num_blocks=num_blocks,\n",
    "                   embedding_dim=hidden_units,\n",
    "                   attention_dim=hidden_units,\n",
    "                   attention_num_heads=num_heads,\n",
    "                   dropout_rate=dropout_rate,\n",
    "                   conv_dims = [100, 100],\n",
    "                   l2_reg=l2_emb,\n",
    "                   num_neg_test=num_neg_test\n",
    "    )\n",
    "elif model_name == \"ssept\":\n",
    "    model = SSEPT(item_num=dataset.itemnum,\n",
    "                  user_num=dataset.usernum,\n",
    "                  seq_max_len=maxlen,\n",
    "                  num_blocks=num_blocks,\n",
    "                  embedding_dim=hidden_units,\n",
    "                  user_embedding_dim=10,\n",
    "                  item_embedding_dim=hidden_units,\n",
    "                  attention_dim=hidden_units,\n",
    "                  attention_num_heads=num_heads,\n",
    "                  dropout_rate=dropout_rate,\n",
    "                  conv_dims = [110, 110],\n",
    "                  l2_reg=l2_emb,\n",
    "                  num_neg_test=num_neg_test\n",
    "    )\n",
    "else:\n",
    "    print(f\"Model-{model_name} not found\")"
   ]
  },
  {
   "cell_type": "code",
   "execution_count": 7,
   "id": "f5baf430",
   "metadata": {},
   "outputs": [
    {
     "name": "stderr",
     "output_type": "stream",
     "text": [
      "  0%|                                           | 0/50 [00:00<?, ?b/s]2025-04-29 18:28:00.443083: I tensorflow/compiler/xla/stream_executor/cuda/cuda_dnn.cc:442] Loaded cuDNN version 8700\n",
      "2025-04-29 18:28:00.905528: I tensorflow/compiler/xla/service/service.cc:168] XLA service 0x7478b0196970 initialized for platform CUDA (this does not guarantee that XLA will be used). Devices:\n",
      "2025-04-29 18:28:00.905549: I tensorflow/compiler/xla/service/service.cc:176]   StreamExecutor device (0): NVIDIA GeForce RTX 3070 Ti Laptop GPU, Compute Capability 8.6\n",
      "2025-04-29 18:28:00.911015: I tensorflow/compiler/mlir/tensorflow/utils/dump_mlir_util.cc:269] disabling MLIR crash reproducer, set env var `MLIR_CRASH_REPRODUCER_DIRECTORY` to enable.\n",
      "2025-04-29 18:28:00.972121: I ./tensorflow/compiler/jit/device_compiler.h:186] Compiled cluster using XLA!  This line is logged at most once for the lifetime of the process.\n",
      "                                                                      "
     ]
    },
    {
     "name": "stdout",
     "output_type": "stream",
     "text": [
      "\n",
      "epoch: 5, test (NDCG@10: 0.5737525615761228, HR@10: 0.7513)\n",
      "Time cost for training is 2.85 mins\n"
     ]
    },
    {
     "name": "stderr",
     "output_type": "stream",
     "text": [
      "\r"
     ]
    }
   ],
   "source": [
    "\n",
    "with Timer() as train_time:\n",
    "    t_test = model.train(dataset, sampler,\n",
    "                         num_epochs=num_epochs,\n",
    "                         batch_size=batch_size,\n",
    "                         lr=lr, val_epoch=6,\n",
    "                         model_path = str(CKPT_DIR))\n",
    "\n",
    "print('Time cost for training is {0:.2f} mins'.format(train_time.interval/60.0))"
   ]
  },
  {
   "cell_type": "code",
   "execution_count": 8,
   "id": "fec2f957",
   "metadata": {},
   "outputs": [
    {
     "data": {
      "application/notebook_utils.json+json": {
       "data": 0.5737525615761228,
       "encoder": "json",
       "name": "ndcg@10"
      }
     },
     "metadata": {
      "notebook_utils": {
       "data": true,
       "display": false,
       "name": "ndcg@10"
      }
     },
     "output_type": "display_data"
    },
    {
     "data": {
      "application/notebook_utils.json+json": {
       "data": 0.7513,
       "encoder": "json",
       "name": "Hit@10"
      }
     },
     "metadata": {
      "notebook_utils": {
       "data": true,
       "display": false,
       "name": "Hit@10"
      }
     },
     "output_type": "display_data"
    }
   ],
   "source": [
    "store_metadata(\"ndcg@10\", t_test[0])\n",
    "store_metadata(\"Hit@10\", t_test[1])"
   ]
  },
  {
   "cell_type": "code",
   "execution_count": 9,
   "id": "667e141c",
   "metadata": {},
   "outputs": [
    {
     "data": {
      "text/plain": [
       "'data/ckpt/sasrec.ckpt'"
      ]
     },
     "execution_count": 9,
     "metadata": {},
     "output_type": "execute_result"
    }
   ],
   "source": [
    "# after training:\n",
    "ckpt = tf.train.Checkpoint(model=model)\n",
    "ckpt.write(str(CKPT_DIR / \"sasrec.ckpt\"))\n"
   ]
  },
  {
   "cell_type": "code",
   "execution_count": 10,
   "id": "57754ed9",
   "metadata": {},
   "outputs": [],
   "source": [
    "import json\n",
    "\n",
    "config = {\n",
    "    \"item_num\": dataset.itemnum,\n",
    "    \"seq_max_len\": maxlen,\n",
    "    \"num_blocks\": num_blocks,\n",
    "    \"embedding_dim\": hidden_units,\n",
    "    \"attention_dim\": hidden_units,\n",
    "    \"attention_num_heads\": num_heads,\n",
    "    \"dropout_rate\": dropout_rate,\n",
    "    \"conv_dims\": [100, 100],\n",
    "    \"l2_reg\": l2_emb,\n",
    "    \"num_neg_test\": num_neg_test\n",
    "}\n",
    "with open(CKPT_DIR / \"sasrec_config.json\", \"w\") as f:\n",
    "    json.dump(config, f)"
   ]
  }
 ],
 "metadata": {
  "kernelspec": {
   "display_name": "recommendation",
   "language": "python",
   "name": "python3"
  },
  "language_info": {
   "codemirror_mode": {
    "name": "ipython",
    "version": 3
   },
   "file_extension": ".py",
   "mimetype": "text/x-python",
   "name": "python",
   "nbconvert_exporter": "python",
   "pygments_lexer": "ipython3",
   "version": "3.9.21"
  }
 },
 "nbformat": 4,
 "nbformat_minor": 5
}
