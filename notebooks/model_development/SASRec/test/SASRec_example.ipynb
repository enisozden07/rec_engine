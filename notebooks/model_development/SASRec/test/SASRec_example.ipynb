{
 "cells": [
  {
   "cell_type": "code",
   "execution_count": 1,
   "id": "eadddfca",
   "metadata": {},
   "outputs": [],
   "source": [
    "#pip install recommenders[gpu]\n",
    "#python3 -m pip install 'tensorflow[and-cuda]'\n",
    "#pip install numpy==1.26.4"
   ]
  },
  {
   "cell_type": "code",
   "execution_count": 2,
   "id": "06aec755",
   "metadata": {},
   "outputs": [
    {
     "name": "stderr",
     "output_type": "stream",
     "text": [
      "2025-04-29 03:03:36.889365: I tensorflow/core/util/port.cc:111] oneDNN custom operations are on. You may see slightly different numerical results due to floating-point round-off errors from different computation orders. To turn them off, set the environment variable `TF_ENABLE_ONEDNN_OPTS=0`.\n",
      "2025-04-29 03:03:36.913153: E tensorflow/compiler/xla/stream_executor/cuda/cuda_dnn.cc:9342] Unable to register cuDNN factory: Attempting to register factory for plugin cuDNN when one has already been registered\n",
      "2025-04-29 03:03:36.913180: E tensorflow/compiler/xla/stream_executor/cuda/cuda_fft.cc:609] Unable to register cuFFT factory: Attempting to register factory for plugin cuFFT when one has already been registered\n",
      "2025-04-29 03:03:36.913198: E tensorflow/compiler/xla/stream_executor/cuda/cuda_blas.cc:1518] Unable to register cuBLAS factory: Attempting to register factory for plugin cuBLAS when one has already been registered\n",
      "2025-04-29 03:03:36.917741: I tensorflow/core/platform/cpu_feature_guard.cc:182] This TensorFlow binary is optimized to use available CPU instructions in performance-critical operations.\n",
      "To enable the following instructions: AVX2 AVX_VNNI FMA, in other operations, rebuild TensorFlow with the appropriate compiler flags.\n"
     ]
    },
    {
     "name": "stdout",
     "output_type": "stream",
     "text": [
      "System version: 3.9.18 | packaged by conda-forge | (main, Dec 23 2023, 16:33:10) \n",
      "[GCC 12.3.0]\n",
      "Tensorflow version: 2.14.0\n"
     ]
    }
   ],
   "source": [
    "import sys\n",
    "import os\n",
    "import pandas as pd \n",
    "import tensorflow as tf\n",
    "tf.get_logger().setLevel('ERROR') # only show error messages\n",
    "\n",
    "from recommenders.datasets.amazon_reviews import get_review_data\n",
    "from recommenders.datasets.split_utils import filter_k_core\n",
    "from recommenders.models.sasrec.model import SASREC\n",
    "from recommenders.models.sasrec.ssept import SSEPT\n",
    "from recommenders.models.sasrec.sampler import WarpSampler\n",
    "from recommenders.models.sasrec.util import SASRecDataSet\n",
    "from recommenders.utils.notebook_utils import store_metadata\n",
    "from recommenders.utils.timer import Timer\n",
    "\n",
    "\n",
    "print(f\"System version: {sys.version}\")\n",
    "print(f\"Tensorflow version: {tf.__version__}\")"
   ]
  },
  {
   "cell_type": "code",
   "execution_count": 3,
   "id": "bcb397e7",
   "metadata": {},
   "outputs": [
    {
     "name": "stdout",
     "output_type": "stream",
     "text": [
      "✅ GPU device: /physical_device:GPU:0\n"
     ]
    },
    {
     "name": "stderr",
     "output_type": "stream",
     "text": [
      "2025-04-29 03:03:38.171504: I tensorflow/compiler/xla/stream_executor/cuda/cuda_gpu_executor.cc:894] successful NUMA node read from SysFS had negative value (-1), but there must be at least one NUMA node, so returning NUMA node zero. See more at https://github.com/torvalds/linux/blob/v6.0/Documentation/ABI/testing/sysfs-bus-pci#L344-L355\n",
      "2025-04-29 03:03:38.175998: I tensorflow/compiler/xla/stream_executor/cuda/cuda_gpu_executor.cc:894] successful NUMA node read from SysFS had negative value (-1), but there must be at least one NUMA node, so returning NUMA node zero. See more at https://github.com/torvalds/linux/blob/v6.0/Documentation/ABI/testing/sysfs-bus-pci#L344-L355\n",
      "2025-04-29 03:03:38.176177: I tensorflow/compiler/xla/stream_executor/cuda/cuda_gpu_executor.cc:894] successful NUMA node read from SysFS had negative value (-1), but there must be at least one NUMA node, so returning NUMA node zero. See more at https://github.com/torvalds/linux/blob/v6.0/Documentation/ABI/testing/sysfs-bus-pci#L344-L355\n"
     ]
    }
   ],
   "source": [
    "gpus = tf.config.list_physical_devices('GPU')\n",
    "assert gpus, \"❌ No GPU visible\"\n",
    "print(\"✅ GPU device:\", gpus[0].name)       # should contain “A100”\n",
    "\n",
    "\n",
    "# faster allocator (TensorFlow >= 2.10)\n",
    "os.environ[\"TF_GPU_ALLOCATOR\"] = \"cuda_malloc_async\""
   ]
  },
  {
   "cell_type": "code",
   "execution_count": null,
   "id": "2dc0238c",
   "metadata": {},
   "outputs": [],
   "source": [
    "num_epochs = 5\n",
    "batch_size = 128\n",
    "seed = 100  # Set None for non-deterministic result\n",
    "\n",
    "# data_dir = os.path.join(\"tests\", \"recsys_data\", \"RecSys\", \"SASRec-tf2\", \"data\")\n",
    "data_dir = os.path.join( \"tests\", \"resources\", \"deeprec\", \"sasrec\")\n",
    "\n",
    "# Amazon Electronics Data\n",
    "dataset = \"reviews_Electronics_5\"\n",
    "\n",
    "lr = 0.001             # learning rate\n",
    "maxlen = 50            # maximum sequence length for each user\n",
    "num_blocks = 2         # number of transformer blocks\n",
    "hidden_units = 100     # number of units in the attention calculation\n",
    "num_heads = 1          # number of attention heads\n",
    "dropout_rate = 0.1     # dropout rate\n",
    "l2_emb = 0.0           # L2 regularization coefficient\n",
    "num_neg_test = 100     # number of negative examples per positive example\n",
    "model_name = 'ssept'  # 'sasrec' or 'ssept'"
   ]
  },
  {
   "cell_type": "code",
   "execution_count": 5,
   "id": "44f3a121",
   "metadata": {},
   "outputs": [
    {
     "name": "stderr",
     "output_type": "stream",
     "text": [
      "100%|██████████| 484k/484k [00:31<00:00, 15.6kKB/s] \n"
     ]
    }
   ],
   "source": [
    "\n",
    "\n",
    "reviews_name = dataset + '.json'\n",
    "outfile = dataset + '.txt'\n",
    "\n",
    "reviews_file = os.path.join(data_dir, reviews_name)\n",
    "if not os.path.exists(reviews_file):\n",
    "    reviews_output = get_review_data(reviews_file)\n",
    "else:\n",
    "    reviews_output = os.path.join(data_dir, dataset+\".json_output\")"
   ]
  },
  {
   "cell_type": "code",
   "execution_count": 6,
   "id": "0ae2ebeb",
   "metadata": {},
   "outputs": [],
   "source": [
    "if not os.path.exists(os.path.join(data_dir, outfile)):\n",
    "    df = pd.read_csv(reviews_output, sep=\"\\t\", names=[\"userID\", \"itemID\", \"time\"])\n",
    "    df = filter_k_core(df, 10)  # filter for users & items with less than 10 interactions\n",
    "    \n",
    "    user_set, item_set = set(df['userID'].unique()), set(df['itemID'].unique())\n",
    "    user_map = dict()\n",
    "    item_map = dict()\n",
    "    for u, user in enumerate(user_set):\n",
    "        user_map[user] = u+1\n",
    "    for i, item in enumerate(item_set):\n",
    "        item_map[item] = i+1\n",
    "    \n",
    "    df[\"userID\"] = df[\"userID\"].apply(lambda x: user_map[x])\n",
    "    df[\"itemID\"] = df[\"itemID\"].apply(lambda x: item_map[x])\n",
    "    df = df.sort_values(by=[\"userID\", \"time\"])\n",
    "    df.drop(columns=[\"time\"], inplace=True)\n",
    "    df.to_csv(os.path.join(data_dir, outfile), sep=\"\\t\", header=False, index=False)"
   ]
  },
  {
   "cell_type": "code",
   "execution_count": 7,
   "id": "d23ea923",
   "metadata": {},
   "outputs": [
    {
     "name": "stdout",
     "output_type": "stream",
     "text": [
      "../../tests/resources/deeprec/sasrec/reviews_Electronics_5.txt\n",
      "20247 Users and 11589 items\n",
      "average sequence length: 15.16\n"
     ]
    }
   ],
   "source": [
    "             \n",
    "\n",
    "inp_file = os.path.join(data_dir, dataset + \".txt\")\n",
    "print(inp_file)\n",
    "\n",
    "# initiate a dataset class \n",
    "data = SASRecDataSet(filename=inp_file, col_sep=\"\\t\")\n",
    "\n",
    "# create train, validation and test splits\n",
    "data.split()\n",
    "\n",
    "# some statistics\n",
    "num_steps = int(len(data.user_train) / batch_size)\n",
    "cc = 0.0\n",
    "for u in data.user_train:\n",
    "    cc += len(data.user_train[u])\n",
    "print('%g Users and %g items' % (data.usernum, data.itemnum))\n",
    "print('average sequence length: %.2f' % (cc / len(data.user_train)))"
   ]
  },
  {
   "cell_type": "code",
   "execution_count": 8,
   "id": "ff64e3c8",
   "metadata": {},
   "outputs": [
    {
     "name": "stderr",
     "output_type": "stream",
     "text": [
      "2025-04-29 03:04:56.907571: I tensorflow/compiler/xla/stream_executor/cuda/cuda_gpu_executor.cc:894] successful NUMA node read from SysFS had negative value (-1), but there must be at least one NUMA node, so returning NUMA node zero. See more at https://github.com/torvalds/linux/blob/v6.0/Documentation/ABI/testing/sysfs-bus-pci#L344-L355\n",
      "2025-04-29 03:04:56.907717: I tensorflow/compiler/xla/stream_executor/cuda/cuda_gpu_executor.cc:894] successful NUMA node read from SysFS had negative value (-1), but there must be at least one NUMA node, so returning NUMA node zero. See more at https://github.com/torvalds/linux/blob/v6.0/Documentation/ABI/testing/sysfs-bus-pci#L344-L355\n",
      "2025-04-29 03:04:56.907774: I tensorflow/compiler/xla/stream_executor/cuda/cuda_gpu_executor.cc:894] successful NUMA node read from SysFS had negative value (-1), but there must be at least one NUMA node, so returning NUMA node zero. See more at https://github.com/torvalds/linux/blob/v6.0/Documentation/ABI/testing/sysfs-bus-pci#L344-L355\n",
      "2025-04-29 03:04:56.948983: I tensorflow/compiler/xla/stream_executor/cuda/cuda_gpu_executor.cc:894] successful NUMA node read from SysFS had negative value (-1), but there must be at least one NUMA node, so returning NUMA node zero. See more at https://github.com/torvalds/linux/blob/v6.0/Documentation/ABI/testing/sysfs-bus-pci#L344-L355\n",
      "2025-04-29 03:04:56.949087: I tensorflow/compiler/xla/stream_executor/cuda/cuda_gpu_executor.cc:894] successful NUMA node read from SysFS had negative value (-1), but there must be at least one NUMA node, so returning NUMA node zero. See more at https://github.com/torvalds/linux/blob/v6.0/Documentation/ABI/testing/sysfs-bus-pci#L344-L355\n",
      "2025-04-29 03:04:56.949147: I tensorflow/core/common_runtime/gpu/gpu_process_state.cc:236] Using CUDA malloc Async allocator for GPU: 0\n",
      "2025-04-29 03:04:56.949208: I tensorflow/compiler/xla/stream_executor/cuda/cuda_gpu_executor.cc:894] successful NUMA node read from SysFS had negative value (-1), but there must be at least one NUMA node, so returning NUMA node zero. See more at https://github.com/torvalds/linux/blob/v6.0/Documentation/ABI/testing/sysfs-bus-pci#L344-L355\n",
      "2025-04-29 03:04:56.949277: I tensorflow/core/common_runtime/gpu/gpu_device.cc:1886] Created device /job:localhost/replica:0/task:0/device:GPU:0 with 5867 MB memory:  -> device: 0, name: NVIDIA GeForce RTX 3070 Ti Laptop GPU, pci bus id: 0000:01:00.0, compute capability: 8.6\n"
     ]
    }
   ],
   "source": [
    "if model_name == 'sasrec':\n",
    "    model = SASREC(item_num=data.itemnum,\n",
    "                   seq_max_len=maxlen,\n",
    "                   num_blocks=num_blocks,\n",
    "                   embedding_dim=hidden_units,\n",
    "                   attention_dim=hidden_units,\n",
    "                   attention_num_heads=num_heads,\n",
    "                   dropout_rate=dropout_rate,\n",
    "                   conv_dims = [100, 100],\n",
    "                   l2_reg=l2_emb,\n",
    "                   num_neg_test=num_neg_test\n",
    "    )\n",
    "elif model_name == \"ssept\":\n",
    "    model = SSEPT(item_num=data.itemnum,\n",
    "                  user_num=data.usernum,\n",
    "                  seq_max_len=maxlen,\n",
    "                  num_blocks=num_blocks,\n",
    "                  # embedding_dim=hidden_units,  # optional\n",
    "                  user_embedding_dim=10,\n",
    "                  item_embedding_dim=hidden_units,\n",
    "                  attention_dim=hidden_units,\n",
    "                  attention_num_heads=num_heads,\n",
    "                  dropout_rate=dropout_rate,\n",
    "                  conv_dims = [110, 110],\n",
    "                  l2_reg=l2_emb,\n",
    "                  num_neg_test=num_neg_test\n",
    "    )\n",
    "else:\n",
    "    print(f\"Model-{model_name} not found\")"
   ]
  },
  {
   "cell_type": "code",
   "execution_count": 9,
   "id": "3a7013c1",
   "metadata": {},
   "outputs": [],
   "source": [
    "sampler = WarpSampler(data.user_train, data.usernum, data.itemnum, batch_size=batch_size, maxlen=maxlen, n_workers=3)"
   ]
  },
  {
   "cell_type": "code",
   "execution_count": 10,
   "id": "8c3fc302",
   "metadata": {},
   "outputs": [
    {
     "name": "stderr",
     "output_type": "stream",
     "text": [
      "  0%|                                          | 0/158 [00:00<?, ?b/s]2025-04-29 03:04:59.966697: I tensorflow/compiler/xla/stream_executor/cuda/cuda_dnn.cc:442] Loaded cuDNN version 8700\n",
      "2025-04-29 03:05:00.271539: I tensorflow/compiler/xla/service/service.cc:168] XLA service 0x7c0c946da340 initialized for platform CUDA (this does not guarantee that XLA will be used). Devices:\n",
      "2025-04-29 03:05:00.271560: I tensorflow/compiler/xla/service/service.cc:176]   StreamExecutor device (0): NVIDIA GeForce RTX 3070 Ti Laptop GPU, Compute Capability 8.6\n",
      "2025-04-29 03:05:00.275140: I tensorflow/compiler/mlir/tensorflow/utils/dump_mlir_util.cc:269] disabling MLIR crash reproducer, set env var `MLIR_CRASH_REPRODUCER_DIRECTORY` to enable.\n",
      "2025-04-29 03:05:00.331148: I ./tensorflow/compiler/jit/device_compiler.h:186] Compiled cluster using XLA!  This line is logged at most once for the lifetime of the process.\n",
      "                                                                      "
     ]
    },
    {
     "name": "stdout",
     "output_type": "stream",
     "text": [
      "\n",
      "epoch: 5, test (NDCG@10: 0.31572082291844533, HR@10: 0.522)\n",
      "Time cost for training is 3.69 mins\n"
     ]
    },
    {
     "name": "stderr",
     "output_type": "stream",
     "text": [
      "\r"
     ]
    }
   ],
   "source": [
    "with Timer() as train_time:\n",
    "    t_test = model.train(data, sampler, num_epochs=num_epochs, batch_size=batch_size, lr=lr, val_epoch=6)\n",
    "\n",
    "print('Time cost for training is {0:.2f} mins'.format(train_time.interval/60.0))"
   ]
  },
  {
   "cell_type": "code",
   "execution_count": 11,
   "id": "a006100d",
   "metadata": {},
   "outputs": [
    {
     "name": "stdout",
     "output_type": "stream",
     "text": [
      "{'ndcg@10': 0.31572082291844533, 'Hit@10': 0.522}\n"
     ]
    }
   ],
   "source": [
    "\n",
    "\n",
    "res_syn = {\"ndcg@10\": t_test[0], \"Hit@10\": t_test[1]}\n",
    "print(res_syn)"
   ]
  },
  {
   "cell_type": "code",
   "execution_count": 12,
   "id": "1a01cdfc",
   "metadata": {},
   "outputs": [
    {
     "data": {
      "application/notebook_utils.json+json": {
       "data": 0.31572082291844533,
       "encoder": "json",
       "name": "ndcg@10"
      }
     },
     "metadata": {
      "notebook_utils": {
       "data": true,
       "display": false,
       "name": "ndcg@10"
      }
     },
     "output_type": "display_data"
    },
    {
     "data": {
      "application/notebook_utils.json+json": {
       "data": 0.522,
       "encoder": "json",
       "name": "Hit@10"
      }
     },
     "metadata": {
      "notebook_utils": {
       "data": true,
       "display": false,
       "name": "Hit@10"
      }
     },
     "output_type": "display_data"
    }
   ],
   "source": [
    "\n",
    "\n",
    "# Record results for tests - ignore this cell\n",
    "store_metadata(\"ndcg@10\", t_test[0])\n",
    "store_metadata(\"Hit@10\", t_test[1])"
   ]
  }
 ],
 "metadata": {
  "kernelspec": {
   "display_name": "recommendation",
   "language": "python",
   "name": "python3"
  },
  "language_info": {
   "codemirror_mode": {
    "name": "ipython",
    "version": 3
   },
   "file_extension": ".py",
   "mimetype": "text/x-python",
   "name": "python",
   "nbconvert_exporter": "python",
   "pygments_lexer": "ipython3",
   "version": "3.9.18"
  }
 },
 "nbformat": 4,
 "nbformat_minor": 5
}
