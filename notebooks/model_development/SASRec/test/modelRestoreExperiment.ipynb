{
 "cells": [
  {
   "cell_type": "code",
   "execution_count": 1,
   "id": "44768e85",
   "metadata": {},
   "outputs": [
    {
     "name": "stderr",
     "output_type": "stream",
     "text": [
      "2025-05-04 14:23:49.377183: I tensorflow/core/util/port.cc:111] oneDNN custom operations are on. You may see slightly different numerical results due to floating-point round-off errors from different computation orders. To turn them off, set the environment variable `TF_ENABLE_ONEDNN_OPTS=0`.\n",
      "2025-05-04 14:23:49.409295: E tensorflow/compiler/xla/stream_executor/cuda/cuda_dnn.cc:9342] Unable to register cuDNN factory: Attempting to register factory for plugin cuDNN when one has already been registered\n",
      "2025-05-04 14:23:49.409321: E tensorflow/compiler/xla/stream_executor/cuda/cuda_fft.cc:609] Unable to register cuFFT factory: Attempting to register factory for plugin cuFFT when one has already been registered\n",
      "2025-05-04 14:23:49.409337: E tensorflow/compiler/xla/stream_executor/cuda/cuda_blas.cc:1518] Unable to register cuBLAS factory: Attempting to register factory for plugin cuBLAS when one has already been registered\n",
      "2025-05-04 14:23:49.413900: I tensorflow/core/platform/cpu_feature_guard.cc:182] This TensorFlow binary is optimized to use available CPU instructions in performance-critical operations.\n",
      "To enable the following instructions: AVX2 AVX_VNNI FMA, in other operations, rebuild TensorFlow with the appropriate compiler flags.\n"
     ]
    },
    {
     "ename": "FileNotFoundError",
     "evalue": "[Errno 2] No such file or directory: 'data/ckpt/sasrec_config.json'",
     "output_type": "error",
     "traceback": [
      "\u001b[0;31m---------------------------------------------------------------------------\u001b[0m",
      "\u001b[0;31mFileNotFoundError\u001b[0m                         Traceback (most recent call last)",
      "Cell \u001b[0;32mIn[1], line 6\u001b[0m\n\u001b[1;32m      3\u001b[0m \u001b[38;5;28;01mfrom\u001b[39;00m\u001b[38;5;250m \u001b[39m\u001b[38;5;21;01mrecommenders\u001b[39;00m\u001b[38;5;21;01m.\u001b[39;00m\u001b[38;5;21;01mmodels\u001b[39;00m\u001b[38;5;21;01m.\u001b[39;00m\u001b[38;5;21;01msasrec\u001b[39;00m\u001b[38;5;21;01m.\u001b[39;00m\u001b[38;5;21;01mmodel\u001b[39;00m\u001b[38;5;250m \u001b[39m\u001b[38;5;28;01mimport\u001b[39;00m SASREC\n\u001b[1;32m      5\u001b[0m \u001b[38;5;66;03m# Load config\u001b[39;00m\n\u001b[0;32m----> 6\u001b[0m \u001b[38;5;28;01mwith\u001b[39;00m \u001b[38;5;28;43mopen\u001b[39;49m\u001b[43m(\u001b[49m\u001b[38;5;124;43m\"\u001b[39;49m\u001b[38;5;124;43mdata/ckpt/sasrec_config.json\u001b[39;49m\u001b[38;5;124;43m\"\u001b[39;49m\u001b[43m)\u001b[49m \u001b[38;5;28;01mas\u001b[39;00m f:\n\u001b[1;32m      7\u001b[0m     config \u001b[38;5;241m=\u001b[39m json\u001b[38;5;241m.\u001b[39mload(f)\n\u001b[1;32m      9\u001b[0m \u001b[38;5;66;03m# Recreate model\u001b[39;00m\n",
      "File \u001b[0;32m~/miniconda3/envs/recommendation/lib/python3.9/site-packages/IPython/core/interactiveshell.py:310\u001b[0m, in \u001b[0;36m_modified_open\u001b[0;34m(file, *args, **kwargs)\u001b[0m\n\u001b[1;32m    303\u001b[0m \u001b[38;5;28;01mif\u001b[39;00m file \u001b[38;5;129;01min\u001b[39;00m {\u001b[38;5;241m0\u001b[39m, \u001b[38;5;241m1\u001b[39m, \u001b[38;5;241m2\u001b[39m}:\n\u001b[1;32m    304\u001b[0m     \u001b[38;5;28;01mraise\u001b[39;00m \u001b[38;5;167;01mValueError\u001b[39;00m(\n\u001b[1;32m    305\u001b[0m         \u001b[38;5;124mf\u001b[39m\u001b[38;5;124m\"\u001b[39m\u001b[38;5;124mIPython won\u001b[39m\u001b[38;5;124m'\u001b[39m\u001b[38;5;124mt let you open fd=\u001b[39m\u001b[38;5;132;01m{\u001b[39;00mfile\u001b[38;5;132;01m}\u001b[39;00m\u001b[38;5;124m by default \u001b[39m\u001b[38;5;124m\"\u001b[39m\n\u001b[1;32m    306\u001b[0m         \u001b[38;5;124m\"\u001b[39m\u001b[38;5;124mas it is likely to crash IPython. If you know what you are doing, \u001b[39m\u001b[38;5;124m\"\u001b[39m\n\u001b[1;32m    307\u001b[0m         \u001b[38;5;124m\"\u001b[39m\u001b[38;5;124myou can use builtins\u001b[39m\u001b[38;5;124m'\u001b[39m\u001b[38;5;124m open.\u001b[39m\u001b[38;5;124m\"\u001b[39m\n\u001b[1;32m    308\u001b[0m     )\n\u001b[0;32m--> 310\u001b[0m \u001b[38;5;28;01mreturn\u001b[39;00m \u001b[43mio_open\u001b[49m\u001b[43m(\u001b[49m\u001b[43mfile\u001b[49m\u001b[43m,\u001b[49m\u001b[43m \u001b[49m\u001b[38;5;241;43m*\u001b[39;49m\u001b[43margs\u001b[49m\u001b[43m,\u001b[49m\u001b[43m \u001b[49m\u001b[38;5;241;43m*\u001b[39;49m\u001b[38;5;241;43m*\u001b[39;49m\u001b[43mkwargs\u001b[49m\u001b[43m)\u001b[49m\n",
      "\u001b[0;31mFileNotFoundError\u001b[0m: [Errno 2] No such file or directory: 'data/ckpt/sasrec_config.json'"
     ]
    }
   ],
   "source": [
    "import json\n",
    "import tensorflow as tf\n",
    "from recommenders.models.sasrec.model import SASREC\n",
    "\n",
    "# Load config\n",
    "with open(\"data/ckpt/sasrec_config.json\") as f:\n",
    "    config = json.load(f)\n",
    "\n",
    "# Recreate model\n",
    "model = SASREC(\n",
    "    item_num=config[\"item_num\"],\n",
    "    seq_max_len=config[\"seq_max_len\"],\n",
    "    num_blocks=config[\"num_blocks\"],\n",
    "    embedding_dim=config[\"embedding_dim\"],\n",
    "    attention_dim=config[\"attention_dim\"],\n",
    "    attention_num_heads=config[\"attention_num_heads\"],\n",
    "    dropout_rate=config[\"dropout_rate\"],\n",
    "    conv_dims=config[\"conv_dims\"],\n",
    "    l2_reg=config[\"l2_reg\"],\n",
    "    num_neg_test=config[\"num_neg_test\"]\n",
    ")\n",
    "\n",
    "# Restore weights\n",
    "ckpt = tf.train.Checkpoint(model=model)\n",
    "ckpt.restore(\"data/ckpt/sasrec.ckpt\").expect_partial()"
   ]
  },
  {
   "cell_type": "code",
   "execution_count": null,
   "id": "efc72855",
   "metadata": {},
   "outputs": [
    {
     "name": "stdout",
     "output_type": "stream",
     "text": [
      "Top-N recommended item IDs: [ 15  35 103 868  39 955  71  93 303 122]\n"
     ]
    }
   ],
   "source": [
    "import tensorflow as tf\n",
    "import numpy as np\n",
    "\n",
    "maxlen = config[\"seq_max_len\"]\n",
    "item_num = config[\"item_num\"]\n",
    "num_neg_test = config[\"num_neg_test\"]\n",
    "\n",
    "user_seq = [\n",
    "    1, 3, 1, 3, 113, 3, 33, 1, 741, 741, 741, 3, 1, 741, 133, 1, 3, 33, 3, 1,\n",
    "    1, 1, 1432, 1, 1, 3, 1432, 3, 1, 1, 33, 1, 3, 1, 3, 1, 1432, 1432, 797, 3,\n",
    "    3, 1, 1\n",
    "]\n",
    "input_seq = user_seq[-maxlen:]\n",
    "input_seq = [0] * (maxlen - len(input_seq)) + input_seq\n",
    "\n",
    "all_items = set(range(1, item_num + 1))\n",
    "interacted_items = set(user_seq)\n",
    "candidates = np.array(list(all_items - interacted_items))\n",
    "\n",
    "scores = []\n",
    "for item in candidates:\n",
    "    # Prepare input: positive + num_neg_test negatives (here, just the candidate as positive, no negatives)\n",
    "    inputs = {\n",
    "        \"input_seq\": np.array([input_seq]),\n",
    "        \"candidate\": np.array([[item] + [0]*num_neg_test])  # pad negatives with zeros or random negatives\n",
    "    }\n",
    "    score = model.predict(inputs)[0, 0]  # get the score for the positive item\n",
    "    scores.append(score)\n",
    "\n",
    "scores = np.array(scores)\n",
    "N = 10\n",
    "top_indices = np.argsort(scores)[::-1][:N]\n",
    "recommended_items = candidates[top_indices]\n",
    "print(\"Top-N recommended item IDs:\", recommended_items)"
   ]
  }
 ],
 "metadata": {
  "kernelspec": {
   "display_name": "recommendation",
   "language": "python",
   "name": "python3"
  },
  "language_info": {
   "codemirror_mode": {
    "name": "ipython",
    "version": 3
   },
   "file_extension": ".py",
   "mimetype": "text/x-python",
   "name": "python",
   "nbconvert_exporter": "python",
   "pygments_lexer": "ipython3",
   "version": "3.9.18"
  }
 },
 "nbformat": 4,
 "nbformat_minor": 5
}
