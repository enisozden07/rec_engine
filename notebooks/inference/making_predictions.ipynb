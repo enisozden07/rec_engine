{
 "cells": [
  {
   "cell_type": "code",
   "execution_count": 19,
   "id": "21fde6c7",
   "metadata": {},
   "outputs": [],
   "source": [
    "import json\n",
    "import numpy as np\n",
    "import tensorflow as tf\n",
    "from recommenders.models.sasrec.model import SASREC "
   ]
  },
  {
   "cell_type": "code",
   "execution_count": 20,
   "id": "9c60a621",
   "metadata": {},
   "outputs": [],
   "source": [
    "# 1. Load the saved configuration\n",
    "with open(\"../data/ckpt/sasrec_config.json\", \"r\") as f:\n",
    "    config = json.load(f)"
   ]
  },
  {
   "cell_type": "code",
   "execution_count": 21,
   "id": "d4a47eeb",
   "metadata": {},
   "outputs": [],
   "source": [
    "# 2. Load ID mappings (assuming you saved these during preprocessing)\n",
    "with open(\"../data/id_maps.json\", \"r\") as f:\n",
    "    id_maps = json.load(f)"
   ]
  },
  {
   "cell_type": "code",
   "execution_count": 22,
   "id": "d3db6180",
   "metadata": {},
   "outputs": [],
   "source": [
    "# Create bidirectional mappings\n",
    "item_idx_to_id = id_maps.get(\"idx_to_item_id\", {})\n",
    "item_id_to_idx = id_maps.get(\"item_id_to_idx\", {})"
   ]
  },
  {
   "cell_type": "code",
   "execution_count": 23,
   "id": "6ec10084",
   "metadata": {},
   "outputs": [],
   "source": [
    "# 3. Recreate the model with same architecture\n",
    "model = SASREC(\n",
    "    item_num=config[\"item_num\"],\n",
    "    seq_max_len=config[\"seq_max_len\"],\n",
    "    num_blocks=config[\"num_blocks\"],\n",
    "    embedding_dim=config[\"embedding_dim\"],\n",
    "    attention_dim=config[\"attention_dim\"],\n",
    "    attention_num_heads=config[\"attention_num_heads\"],\n",
    "    dropout_rate=config[\"dropout_rate\"],\n",
    "    conv_dims=[100, 100],  # Use correct dimensions for SASREC\n",
    "    l2_reg=config[\"l2_reg\"],\n",
    "    num_neg_test=config[\"num_neg_test\"]\n",
    ")"
   ]
  },
  {
   "cell_type": "code",
   "execution_count": 24,
   "id": "6317a5c6",
   "metadata": {},
   "outputs": [
    {
     "data": {
      "text/plain": [
       "<tensorflow.python.checkpoint.checkpoint.CheckpointLoadStatus at 0x7e89a4165fd0>"
      ]
     },
     "execution_count": 24,
     "metadata": {},
     "output_type": "execute_result"
    }
   ],
   "source": [
    "# 4. Restore weights\n",
    "ckpt = tf.train.Checkpoint(model=model)\n",
    "ckpt.restore(\"../data/ckpt/sasrec.ckpt\").expect_partial()"
   ]
  },
  {
   "cell_type": "code",
   "execution_count": 25,
   "id": "b11b53bc",
   "metadata": {},
   "outputs": [],
   "source": [
    "# 5. Function to recommend items based on a basket\n",
    "def recommend_from_basket(basket_item_ids, top_k=10):\n",
    "    \"\"\"\n",
    "    Get recommendations based on items in basket\n",
    "    \n",
    "    Args:\n",
    "        basket_item_ids: List of original item IDs in the basket\n",
    "        top_k: Number of recommendations to return\n",
    "    \n",
    "    Returns:\n",
    "        List of recommended item IDs\n",
    "    \"\"\"\n",
    "    # Convert basket items to indices\n",
    "    basket_indices = []\n",
    "    for item_id in basket_item_ids:\n",
    "        if str(item_id) in item_id_to_idx:\n",
    "            basket_indices.append(int(item_id_to_idx[str(item_id)]))\n",
    "    \n",
    "    if not basket_indices:\n",
    "        print(\"No valid items found in basket\")\n",
    "        return []\n",
    "    \n",
    "    # Prepare sequence for the model (using basket as sequence)\n",
    "    seq = np.zeros([1, config[\"seq_max_len\"]], dtype=np.int32)\n",
    "    idx = min(len(basket_indices), config[\"seq_max_len\"])\n",
    "    seq[0, -idx:] = basket_indices[-idx:]  # Add items to end of sequence\n",
    "    \n",
    "    # Use a custom prediction approach\n",
    "    # Create scores for all possible items\n",
    "    all_items = np.arange(1, config[\"item_num\"] + 1)  # All item indices\n",
    "    \n",
    "    # Convert to tensors\n",
    "    seq_tensor = tf.constant(seq, dtype=tf.int32)\n",
    "    \n",
    "    # Get item embeddings (this part depends on SASREC implementation)\n",
    "    # We'll try to access these through the model's layers\n",
    "    item_emb_table = None\n",
    "    for layer in model.layers:\n",
    "        if 'embedding' in layer.name and hasattr(layer, 'embeddings'):\n",
    "            item_emb_table = layer.embeddings\n",
    "            break\n",
    "    \n",
    "    if item_emb_table is not None:\n",
    "        # Get the last non-zero item in sequence (for prediction context)\n",
    "        seq_emb = model.seq_embeddings(seq_tensor)\n",
    "        \n",
    "        # Get a mask for the sequence (to ignore padding)\n",
    "        mask = tf.expand_dims(tf.cast(tf.not_equal(seq_tensor, 0), tf.float32), -1)\n",
    "        \n",
    "        # Apply attention and get the final representation\n",
    "        # This uses internal model layers - adjust based on actual implementation\n",
    "        for i in range(config[\"num_blocks\"]):\n",
    "            seq_emb = model.attention_blocks[i](seq_emb, mask, training=False)\n",
    "            \n",
    "        # Get the final position representation (the last non-pad item)\n",
    "        flat_mask = tf.reshape(mask, [-1])\n",
    "        indices = tf.range(tf.shape(flat_mask)[0])\n",
    "        last_indices = tf.reduce_sum(tf.cast(tf.not_equal(flat_mask, 0), tf.int32)) - 1\n",
    "        seq_target = tf.gather(tf.reshape(seq_emb, [-1, seq_emb.shape[-1]]), last_indices)\n",
    "        \n",
    "        # Get item scores by dot product\n",
    "        all_item_emb = tf.nn.embedding_lookup(item_emb_table, all_items)\n",
    "        scores = tf.matmul(tf.expand_dims(seq_target, 0), all_item_emb, transpose_b=True)\n",
    "        scores = tf.squeeze(scores)\n",
    "        \n",
    "        # Convert to numpy for processing\n",
    "        predictions = scores.numpy()\n",
    "    else:\n",
    "        # Fallback - use a simpler prediction approach\n",
    "        # Create a dummy model call for test mode\n",
    "        print(\"Using fallback prediction method\")\n",
    "        predictions = np.random.rand(config[\"item_num\"])  # Just for testing\n",
    "    \n",
    "    # Get top-k items, excluding those already in basket\n",
    "    basket_set = set(basket_indices)\n",
    "    \n",
    "    # Sort and filter\n",
    "    top_indices = []\n",
    "    sorted_idx = np.argsort(-predictions)\n",
    "    for idx in sorted_idx:\n",
    "        if idx not in basket_set and idx > 0:  # Skip padding item (0)\n",
    "            top_indices.append(idx)\n",
    "            if len(top_indices) >= top_k:\n",
    "                break\n",
    "    \n",
    "    # Convert indices back to original IDs\n",
    "    recommended_items = [item_idx_to_id[str(idx)] for idx in top_indices \n",
    "                         if str(idx) in item_idx_to_id]\n",
    "    \n",
    "    return recommended_items"
   ]
  },
  {
   "cell_type": "code",
   "execution_count": 26,
   "id": "63d8e52c",
   "metadata": {},
   "outputs": [],
   "source": [
    "# Example usage\n",
    "basket = [\"123\", \"456\"]  # Replace with real item IDs"
   ]
  },
  {
   "cell_type": "code",
   "execution_count": 27,
   "id": "76e3a2eb",
   "metadata": {},
   "outputs": [
    {
     "name": "stdout",
     "output_type": "stream",
     "text": [
      "Item 123 exists in mappings\n",
      "Item 456 exists in mappings\n",
      "Sample items from mappings:\n",
      "Item ID: 1\n",
      "Item ID: 2\n",
      "Item ID: 3\n",
      "Item ID: 4\n",
      "Item ID: 5\n"
     ]
    }
   ],
   "source": [
    "# Check if basket items exist in the mappings\n",
    "for item in basket:\n",
    "    if item in item_id_to_idx:\n",
    "        print(f\"Item {item} exists in mappings\")\n",
    "    else:\n",
    "        print(f\"Item {item} DOES NOT exist in mappings\")\n",
    "\n",
    "# Print a few sample items from the mappings\n",
    "print(\"Sample items from mappings:\")\n",
    "sample_items = list(item_id_to_idx.keys())[:5]\n",
    "for item in sample_items:\n",
    "    print(f\"Item ID: {item}\")"
   ]
  },
  {
   "cell_type": "code",
   "execution_count": 28,
   "id": "be16a093",
   "metadata": {},
   "outputs": [
    {
     "name": "stdout",
     "output_type": "stream",
     "text": [
      "Using fallback prediction method\n",
      "For basket ['123', '456'], we recommend: [2547, 2209, 188, 2952, 3667]\n"
     ]
    }
   ],
   "source": [
    "recommendations = recommend_from_basket(basket, top_k=5)\n",
    "print(f\"For basket {basket}, we recommend: {recommendations}\")"
   ]
  }
 ],
 "metadata": {
  "kernelspec": {
   "display_name": "recommendation",
   "language": "python",
   "name": "python3"
  },
  "language_info": {
   "codemirror_mode": {
    "name": "ipython",
    "version": 3
   },
   "file_extension": ".py",
   "mimetype": "text/x-python",
   "name": "python",
   "nbconvert_exporter": "python",
   "pygments_lexer": "ipython3",
   "version": "3.9.18"
  }
 },
 "nbformat": 4,
 "nbformat_minor": 5
}
